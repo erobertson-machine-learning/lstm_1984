{
  "nbformat": 4,
  "nbformat_minor": 0,
  "metadata": {
    "colab": {
      "name": "lstm_1984.ipynb",
      "provenance": [],
      "collapsed_sections": [],
      "toc_visible": true,
      "authorship_tag": "ABX9TyMNwC0iuL9xoucsyKzm3eTu",
      "include_colab_link": true
    },
    "kernelspec": {
      "name": "python3",
      "display_name": "Python 3"
    },
    "accelerator": "GPU"
  },
  "cells": [
    {
      "cell_type": "markdown",
      "metadata": {
        "id": "view-in-github",
        "colab_type": "text"
      },
      "source": [
        "<a href=\"https://colab.research.google.com/github/erobertson-machine-learning/lstm_1984/blob/master/lstm_1984.ipynb\" target=\"_parent\"><img src=\"https://colab.research.google.com/assets/colab-badge.svg\" alt=\"Open In Colab\"/></a>"
      ]
    },
    {
      "cell_type": "markdown",
      "metadata": {
        "id": "-ByEAyWIe6He",
        "colab_type": "text"
      },
      "source": [
        "# Text Generation with LSTM for books\n",
        "- Source Video https://www.youtube.com/watch?v=ZMudJXhsUpY&list=PLQY2H8rRoyvzDbLUZkbudP-MFQZwNmU4S&index=6\n",
        "- Data http://gutenberg.net.au/ebooks01/0100021.txt\n",
        "- Data Childrens Storries https://venturebeat.com/2016/02/18/facebook-releases-1-6gb-data-set-of-childrens-stories-for-training-its-ai/"
      ]
    },
    {
      "cell_type": "code",
      "metadata": {
        "id": "AtqILbkGeyHw",
        "colab_type": "code",
        "outputId": "7ad4905a-73a3-4fff-d193-9e379afa1835",
        "colab": {
          "base_uri": "https://localhost:8080/",
          "height": 122
        }
      },
      "source": [
        "from google.colab import drive\n",
        "drive.mount('/content/drive')"
      ],
      "execution_count": 1,
      "outputs": [
        {
          "output_type": "stream",
          "text": [
            "Go to this URL in a browser: https://accounts.google.com/o/oauth2/auth?client_id=947318989803-6bn6qk8qdgf4n4g3pfee6491hc0brc4i.apps.googleusercontent.com&redirect_uri=urn%3aietf%3awg%3aoauth%3a2.0%3aoob&response_type=code&scope=email%20https%3a%2f%2fwww.googleapis.com%2fauth%2fdocs.test%20https%3a%2f%2fwww.googleapis.com%2fauth%2fdrive%20https%3a%2f%2fwww.googleapis.com%2fauth%2fdrive.photos.readonly%20https%3a%2f%2fwww.googleapis.com%2fauth%2fpeopleapi.readonly\n",
            "\n",
            "Enter your authorization code:\n",
            "··········\n",
            "Mounted at /content/drive\n"
          ],
          "name": "stdout"
        }
      ]
    },
    {
      "cell_type": "markdown",
      "metadata": {
        "id": "CzPGcEuOfUak",
        "colab_type": "text"
      },
      "source": [
        "## Loading Data"
      ]
    },
    {
      "cell_type": "code",
      "metadata": {
        "id": "lALdH8UrfxWv",
        "colab_type": "code",
        "colab": {}
      },
      "source": [
        "import re"
      ],
      "execution_count": 0,
      "outputs": []
    },
    {
      "cell_type": "code",
      "metadata": {
        "id": "lUOlMHxxfM5K",
        "colab_type": "code",
        "outputId": "13b1b786-944c-4058-9928-04f3a855d57f",
        "colab": {
          "base_uri": "https://localhost:8080/",
          "height": 85
        }
      },
      "source": [
        "# Load in the data\n",
        "data_file = open('drive/My Drive/Colab Notebooks/data/1984', 'r').readlines()\n",
        "data_file[:4]"
      ],
      "execution_count": 3,
      "outputs": [
        {
          "output_type": "execute_result",
          "data": {
            "text/plain": [
              "['It was a bright cold day in April, and the clocks were striking thirteen.\\n',\n",
              " 'Winston Smith, his chin nuzzled into his breast in an effort to escape the\\n',\n",
              " 'vile wind, slipped quickly through the glass doors of Victory Mansions,\\n',\n",
              " 'though not quickly enough to prevent a swirl of gritty dust from entering\\n']"
            ]
          },
          "metadata": {
            "tags": []
          },
          "execution_count": 3
        }
      ]
    },
    {
      "cell_type": "code",
      "metadata": {
        "id": "CW7ArFMcgFpd",
        "colab_type": "code",
        "outputId": "8d2e1f3f-e4d5-445b-8dca-d5ed2567707c",
        "colab": {
          "base_uri": "https://localhost:8080/",
          "height": 34
        }
      },
      "source": [
        "data_file = ''.join(data_file)\n",
        "data_file = re.sub(r'\\n\\n+', ' <br> ', data_file).lower()\n",
        "data_file = re.sub(r'\\n', ' ', data_file)\n",
        "data_file = re.sub(r' +', ' ', data_file).lower()\n",
        "len(data_file)"
      ],
      "execution_count": 4,
      "outputs": [
        {
          "output_type": "execute_result",
          "data": {
            "text/plain": [
              "591940"
            ]
          },
          "metadata": {
            "tags": []
          },
          "execution_count": 4
        }
      ]
    },
    {
      "cell_type": "code",
      "metadata": {
        "id": "1t_4_ajFCs03",
        "colab_type": "code",
        "colab": {
          "base_uri": "https://localhost:8080/",
          "height": 54
        },
        "outputId": "06410e18-928b-422e-eb92-144cd240e943"
      },
      "source": [
        "data_file[:200]"
      ],
      "execution_count": 5,
      "outputs": [
        {
          "output_type": "execute_result",
          "data": {
            "text/plain": [
              "'it was a bright cold day in april, and the clocks were striking thirteen. winston smith, his chin nuzzled into his breast in an effort to escape the vile wind, slipped quickly through the glass doors '"
            ]
          },
          "metadata": {
            "tags": []
          },
          "execution_count": 5
        }
      ]
    },
    {
      "cell_type": "code",
      "metadata": {
        "id": "-bhlC7yZghHG",
        "colab_type": "code",
        "colab": {}
      },
      "source": [
        "## Text now loaded as single cleaned up string"
      ],
      "execution_count": 0,
      "outputs": []
    },
    {
      "cell_type": "markdown",
      "metadata": {
        "id": "zVsEqBhehAm2",
        "colab_type": "text"
      },
      "source": [
        "## Tokenization"
      ]
    },
    {
      "cell_type": "code",
      "metadata": {
        "id": "JTBaxRzdgyTT",
        "colab_type": "code",
        "colab": {}
      },
      "source": [
        "from tensorflow.keras.preprocessing.text import Tokenizer\n",
        "from tensorflow.keras.preprocessing.sequence import pad_sequences"
      ],
      "execution_count": 0,
      "outputs": []
    },
    {
      "cell_type": "code",
      "metadata": {
        "id": "WBxGFap0hB-E",
        "colab_type": "code",
        "outputId": "dafcab4f-54c0-4cbc-9bf9-138eb6b38818",
        "colab": {
          "base_uri": "https://localhost:8080/",
          "height": 34
        }
      },
      "source": [
        "total_words = 3000\n",
        "tokenizer = Tokenizer(num_words=total_words)\n",
        "tokenizer.fit_on_texts([ data_file ])\n",
        "print('Total Words Tokenized: ', len(tokenizer.word_index))"
      ],
      "execution_count": 8,
      "outputs": [
        {
          "output_type": "stream",
          "text": [
            "Total Words Tokenized:  9251\n"
          ],
          "name": "stdout"
        }
      ]
    },
    {
      "cell_type": "code",
      "metadata": {
        "id": "k3RpluVhhcNj",
        "colab_type": "code",
        "outputId": "0c5fbdbf-ee7d-4c13-9584-f5b76f0ad3c2",
        "colab": {
          "base_uri": "https://localhost:8080/",
          "height": 357
        }
      },
      "source": [
        " token_sequence = tokenizer.texts_to_sequences( [data_file] )\n",
        " token_sequence[0][:20]"
      ],
      "execution_count": 9,
      "outputs": [
        {
          "output_type": "execute_result",
          "data": {
            "text/plain": [
              "[9,\n",
              " 6,\n",
              " 3,\n",
              " 1456,\n",
              " 555,\n",
              " 144,\n",
              " 8,\n",
              " 1892,\n",
              " 4,\n",
              " 1,\n",
              " 22,\n",
              " 31,\n",
              " 913,\n",
              " 13,\n",
              " 2753,\n",
              " 55,\n",
              " 13,\n",
              " 914,\n",
              " 8,\n",
              " 45]"
            ]
          },
          "metadata": {
            "tags": []
          },
          "execution_count": 9
        }
      ]
    },
    {
      "cell_type": "markdown",
      "metadata": {
        "id": "RLBVo1nbiIeJ",
        "colab_type": "text"
      },
      "source": [
        "## Data Generation"
      ]
    },
    {
      "cell_type": "code",
      "metadata": {
        "id": "yCPKYE7niU6i",
        "colab_type": "code",
        "colab": {}
      },
      "source": [
        "sequence_length = 20"
      ],
      "execution_count": 0,
      "outputs": []
    },
    {
      "cell_type": "code",
      "metadata": {
        "id": "6GfNZM8fiMj5",
        "colab_type": "code",
        "outputId": "b8c42ed4-27d5-4c38-9ef6-ae5992a5643f",
        "colab": {
          "base_uri": "https://localhost:8080/",
          "height": 34
        }
      },
      "source": [
        "# Genrating lists of words as input sequences\n",
        "train_data = []\n",
        "for i in range ( len ( token_sequence[0] )):\n",
        "  # Text long enough not to worry about padding, dont start till you got long enough sequence\n",
        "  if i < sequence_length:\n",
        "    continue\n",
        "  train_data.append( token_sequence[0][i-sequence_length:i] )\n",
        "print('Total training cases: ', len(train_data))"
      ],
      "execution_count": 11,
      "outputs": [
        {
          "output_type": "stream",
          "text": [
            "Total training cases:  97871\n"
          ],
          "name": "stdout"
        }
      ]
    },
    {
      "cell_type": "code",
      "metadata": {
        "id": "o6Wu0rsvjHIz",
        "colab_type": "code",
        "outputId": "e18d447e-0b0f-418d-800e-84f9eb333ebc",
        "colab": {
          "base_uri": "https://localhost:8080/",
          "height": 34
        }
      },
      "source": [
        "train_data_x = [ a[:-1] for a in train_data ]\n",
        "train_data_y = [ [a[-1]] for a in train_data ]\n",
        "\n",
        "print( train_data_x[0], train_data_y[0])"
      ],
      "execution_count": 12,
      "outputs": [
        {
          "output_type": "stream",
          "text": [
            "[9, 6, 3, 1456, 555, 144, 8, 1892, 4, 1, 22, 31, 913, 13, 2753, 55, 13, 914, 8] [45]\n"
          ],
          "name": "stdout"
        }
      ]
    },
    {
      "cell_type": "code",
      "metadata": {
        "id": "lJDzo9DEkPXS",
        "colab_type": "code",
        "colab": {}
      },
      "source": [
        "from tensorflow.keras import utils"
      ],
      "execution_count": 0,
      "outputs": []
    },
    {
      "cell_type": "code",
      "metadata": {
        "id": "mmljuvC2kHNI",
        "colab_type": "code",
        "outputId": "9b96b4bf-1e21-47ea-edb5-07e8554ed233",
        "colab": {
          "base_uri": "https://localhost:8080/",
          "height": 34
        }
      },
      "source": [
        "# catigorical_y_values\n",
        "train_data_y_onehot = utils.to_categorical( train_data_y, num_classes=total_words+1)\n",
        "train_data_y_onehot.shape"
      ],
      "execution_count": 14,
      "outputs": [
        {
          "output_type": "execute_result",
          "data": {
            "text/plain": [
              "(97871, 3001)"
            ]
          },
          "metadata": {
            "tags": []
          },
          "execution_count": 14
        }
      ]
    },
    {
      "cell_type": "code",
      "metadata": {
        "id": "UYXOPE8wnKMP",
        "colab_type": "code",
        "colab": {}
      },
      "source": [
        "import numpy as np"
      ],
      "execution_count": 0,
      "outputs": []
    },
    {
      "cell_type": "code",
      "metadata": {
        "id": "yGIm5o7-nDfh",
        "colab_type": "code",
        "outputId": "ed4de1a3-8821-40a0-f571-8b822a322a75",
        "colab": {
          "base_uri": "https://localhost:8080/",
          "height": 34
        }
      },
      "source": [
        "train_data_x = np.array( train_data_x )\n",
        "train_data_x.shape"
      ],
      "execution_count": 16,
      "outputs": [
        {
          "output_type": "execute_result",
          "data": {
            "text/plain": [
              "(97871, 19)"
            ]
          },
          "metadata": {
            "tags": []
          },
          "execution_count": 16
        }
      ]
    },
    {
      "cell_type": "markdown",
      "metadata": {
        "id": "w5jgzB10h6z6",
        "colab_type": "text"
      },
      "source": [
        "## Building a LSTM Model"
      ]
    },
    {
      "cell_type": "code",
      "metadata": {
        "id": "vsaW16lkhqlD",
        "colab_type": "code",
        "outputId": "4aebef50-5ada-484d-9728-928df9647007",
        "colab": {
          "base_uri": "https://localhost:8080/",
          "height": 34
        }
      },
      "source": [
        "import tensorflow as tf\n",
        "tf.test.gpu_device_name()"
      ],
      "execution_count": 17,
      "outputs": [
        {
          "output_type": "execute_result",
          "data": {
            "text/plain": [
              "'/device:GPU:0'"
            ]
          },
          "metadata": {
            "tags": []
          },
          "execution_count": 17
        }
      ]
    },
    {
      "cell_type": "code",
      "metadata": {
        "id": "xD8m84N1lAZU",
        "colab_type": "code",
        "colab": {}
      },
      "source": [
        "model = tf.keras.Sequential([\n",
        "     tf.keras.layers.Embedding(total_words+1, 128, input_length=sequence_length-1),\n",
        "     tf.keras.layers.LSTM( 20 ),\n",
        "     tf.keras.layers.Dense( total_words+1, activation='softmax')                         \n",
        "])\n",
        "model.compile(loss='categorical_crossentropy',optimizer='adam',metrics=['accuracy'])"
      ],
      "execution_count": 0,
      "outputs": []
    },
    {
      "cell_type": "code",
      "metadata": {
        "id": "DRhW1_mRl8CL",
        "colab_type": "code",
        "outputId": "8e1a1a9f-f258-4f93-8189-1a25bcd4eabf",
        "colab": {
          "base_uri": "https://localhost:8080/",
          "height": 255
        }
      },
      "source": [
        "model.summary()"
      ],
      "execution_count": 25,
      "outputs": [
        {
          "output_type": "stream",
          "text": [
            "Model: \"sequential_1\"\n",
            "_________________________________________________________________\n",
            "Layer (type)                 Output Shape              Param #   \n",
            "=================================================================\n",
            "embedding_1 (Embedding)      (None, 19, 128)           384128    \n",
            "_________________________________________________________________\n",
            "lstm_1 (LSTM)                (None, 20)                11920     \n",
            "_________________________________________________________________\n",
            "dense_1 (Dense)              (None, 3001)              63021     \n",
            "=================================================================\n",
            "Total params: 459,069\n",
            "Trainable params: 459,069\n",
            "Non-trainable params: 0\n",
            "_________________________________________________________________\n"
          ],
          "name": "stdout"
        }
      ]
    },
    {
      "cell_type": "code",
      "metadata": {
        "id": "cCOY_51pl-B7",
        "colab_type": "code",
        "outputId": "7b2a9434-5fae-4416-ff9f-7be0b1ac5a42",
        "colab": {
          "base_uri": "https://localhost:8080/",
          "height": 697
        }
      },
      "source": [
        "num_epochs = 20\n",
        "history = model.fit(train_data_x, train_data_y_onehot, epochs=num_epochs, verbose=2)"
      ],
      "execution_count": 26,
      "outputs": [
        {
          "output_type": "stream",
          "text": [
            "Epoch 1/20\n",
            "3059/3059 - 23s - loss: 6.0909 - accuracy: 0.0669\n",
            "Epoch 2/20\n",
            "3059/3059 - 22s - loss: 5.7125 - accuracy: 0.1030\n",
            "Epoch 3/20\n",
            "3059/3059 - 23s - loss: 5.4794 - accuracy: 0.1241\n",
            "Epoch 4/20\n",
            "3059/3059 - 22s - loss: 5.3184 - accuracy: 0.1376\n",
            "Epoch 5/20\n",
            "3059/3059 - 22s - loss: 5.1936 - accuracy: 0.1451\n",
            "Epoch 6/20\n",
            "3059/3059 - 23s - loss: 5.0882 - accuracy: 0.1517\n",
            "Epoch 7/20\n",
            "3059/3059 - 22s - loss: 4.9959 - accuracy: 0.1592\n",
            "Epoch 8/20\n",
            "3059/3059 - 22s - loss: 4.9181 - accuracy: 0.1657\n",
            "Epoch 9/20\n",
            "3059/3059 - 22s - loss: 4.8493 - accuracy: 0.1712\n",
            "Epoch 10/20\n",
            "3059/3059 - 22s - loss: 4.7886 - accuracy: 0.1772\n",
            "Epoch 11/20\n",
            "3059/3059 - 22s - loss: 4.7346 - accuracy: 0.1823\n",
            "Epoch 12/20\n",
            "3059/3059 - 22s - loss: 4.6857 - accuracy: 0.1863\n",
            "Epoch 13/20\n",
            "3059/3059 - 22s - loss: 4.6412 - accuracy: 0.1903\n",
            "Epoch 14/20\n",
            "3059/3059 - 22s - loss: 4.6003 - accuracy: 0.1927\n",
            "Epoch 15/20\n",
            "3059/3059 - 22s - loss: 4.5628 - accuracy: 0.1972\n",
            "Epoch 16/20\n",
            "3059/3059 - 22s - loss: 4.5275 - accuracy: 0.1999\n",
            "Epoch 17/20\n",
            "3059/3059 - 22s - loss: 4.4949 - accuracy: 0.2024\n",
            "Epoch 18/20\n",
            "3059/3059 - 22s - loss: 4.4643 - accuracy: 0.2050\n",
            "Epoch 19/20\n",
            "3059/3059 - 22s - loss: 4.4361 - accuracy: 0.2078\n",
            "Epoch 20/20\n",
            "3059/3059 - 23s - loss: 4.4086 - accuracy: 0.2096\n"
          ],
          "name": "stdout"
        }
      ]
    },
    {
      "cell_type": "markdown",
      "metadata": {
        "id": "9B0wi2dhzKNT",
        "colab_type": "text"
      },
      "source": [
        "## Visualize Training"
      ]
    },
    {
      "cell_type": "code",
      "metadata": {
        "id": "zQXAdH-SmEWL",
        "colab_type": "code",
        "outputId": "a6a7e5ba-7c88-450a-ee6f-bd2e57545855",
        "colab": {
          "base_uri": "https://localhost:8080/",
          "height": 759
        }
      },
      "source": [
        "import matplotlib.pyplot as plt\n",
        "from matplotlib.pyplot import figure\n",
        "figure(figsize=(15,8))\n",
        "\n",
        "def plot_graphs(history, string):\n",
        "  plt.plot(history.history[string])\n",
        "  plt.xlabel(\"Epochs\")\n",
        "  plt.ylabel(string)\n",
        "  plt.show()\n",
        "  \n",
        "plot_graphs(history, \"accuracy\")\n",
        "plot_graphs(history, \"loss\")"
      ],
      "execution_count": 27,
      "outputs": [
        {
          "output_type": "display_data",
          "data": {
            "image/png": "[encoded data removed]",
            "text/plain": [
              "<Figure size 1080x576 with 1 Axes>"
            ]
          },
          "metadata": {
            "tags": [],
            "needs_background": "light"
          }
        },
        {
          "output_type": "display_data",
          "data": {
            "image/png": "[encoded data removed]",
            "text/plain": [
              "<Figure size 432x288 with 1 Axes>"
            ]
          },
          "metadata": {
            "tags": [],
            "needs_background": "light"
          }
        }
      ]
    },
    {
      "cell_type": "markdown",
      "metadata": {
        "id": "pt6ijE7Kzr_n",
        "colab_type": "text"
      },
      "source": [
        "## Test out the model"
      ]
    },
    {
      "cell_type": "code",
      "metadata": {
        "id": "ra7CiVwIzwEg",
        "colab_type": "code",
        "colab": {}
      },
      "source": [
        "def predict_next( input_words ):\n",
        "  sequence = np.array(tokenizer.texts_to_sequences( [input_words])[0][-99:])\n",
        "  print( sequence.shape )\n",
        "  predicted_token = model.predict( sequence )\n",
        "  predicted_index = np.argmax(predicted_token[0])\n",
        "  print(predicted_index)\n",
        "  return tokenizer.sequences_to_texts([[predicted_index]])"
      ],
      "execution_count": 0,
      "outputs": []
    },
    {
      "cell_type": "code",
      "metadata": {
        "id": "m1S1ySAx0OTa",
        "colab_type": "code",
        "outputId": "8f5ad50a-a5e7-4ec1-eeda-26c1fb1945f2",
        "colab": {
          "base_uri": "https://localhost:8080/",
          "height": 751
        }
      },
      "source": [
        "start_text = 'it was a bright cold day in april, and the clocks were striking thirteen. winston smith, his chin nuzzled into his breast in an effort to escape the vile wind, slipped quickly through the glass doors of victory mansions, though not quickly enough to prevent a swirl of gritty dust from entering along with him. <br> the hallway smelt of boiled cabbage and old rag mats. at one end of it a coloured poster, too large for indoor display, had been tacked to the wall. it depicted simply an enormous face, more than a metre wide: the face of a man of about forty-five, with a heavy black moustache and ruggedly handsome features. winston made for the stairs. it was no use trying the lift. even at the best of times it was seldom working, and at present the electric current was cut off during daylight hours. it was part of the economy drive in preparation for hate week. the flat was seven flights up, and winston, who was thirty-nine and had a varicose ulcer above his right ankle, went slowly, resting several times on the way. on each landing, opposite the lift-shaft, the poster with the enormous face gazed from the wall. it was one of those pictures which are so contrived that the eyes follow you about when you move. big brother is watching you, the caption beneath it ran.'\n",
        "next_sentence = []\n",
        "for i in range ( 20 ):\n",
        "  next_word = predict_next(start_text)\n",
        "  start_text = start_text + ' ' + next_word[0]\n",
        "  next_sentence.append( next_word[0] )\n",
        "print( next_sentence )\n"
      ],
      "execution_count": 29,
      "outputs": [
        {
          "output_type": "stream",
          "text": [
            "(99,)\n",
            "WARNING:tensorflow:Model was constructed with shape (None, 19) for input Tensor(\"embedding_1_input:0\", shape=(None, 19), dtype=float32), but it was called on an input with incompatible shape (None, 1).\n",
            "1\n",
            "(99,)\n",
            "7\n",
            "(99,)\n",
            "521\n",
            "(99,)\n",
            "1742\n",
            "(99,)\n",
            "2618\n",
            "(99,)\n",
            "2659\n",
            "(99,)\n",
            "66\n",
            "(99,)\n",
            "2464\n",
            "(99,)\n",
            "331\n",
            "(99,)\n",
            "1244\n",
            "(99,)\n",
            "1074\n",
            "(99,)\n",
            "264\n",
            "(99,)\n",
            "1742\n",
            "(99,)\n",
            "521\n",
            "(99,)\n",
            "1\n",
            "(99,)\n",
            "1\n",
            "(99,)\n",
            "8\n",
            "(99,)\n",
            "280\n",
            "(99,)\n",
            "521\n",
            "(99,)\n",
            "1742\n",
            "['the', 'he', 'consciousness', 'trusted', 'southward', 'sye', 'thought', 'tablet', 'floor', 'yelled', \"charrington's\", 'police', 'trusted', 'consciousness', 'the', 'the', 'in', \"'yes\", 'consciousness', 'trusted']\n"
          ],
          "name": "stdout"
        }
      ]
    },
    {
      "cell_type": "code",
      "metadata": {
        "id": "qzCrGse10Uod",
        "colab_type": "code",
        "colab": {}
      },
      "source": [
        ""
      ],
      "execution_count": 0,
      "outputs": []
    }
  ]
}